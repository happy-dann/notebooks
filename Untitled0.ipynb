{
 "metadata": {
  "name": ""
 },
 "nbformat": 3,
 "nbformat_minor": 0,
 "worksheets": [
  {
   "cells": [
    {
     "cell_type": "code",
     "collapsed": false,
     "input": [
      "print 10*6"
     ],
     "language": "python",
     "metadata": {},
     "outputs": [
      {
       "output_type": "stream",
       "stream": "stdout",
       "text": [
        "60\n"
       ]
      }
     ],
     "prompt_number": 1
    },
    {
     "cell_type": "code",
     "collapsed": false,
     "input": [
      "from netCDF4 import Dataset"
     ],
     "language": "python",
     "metadata": {},
     "outputs": [],
     "prompt_number": 3
    },
    {
     "cell_type": "code",
     "collapsed": false,
     "input": [
      "!pwd\n",
      "%matplotlib inline"
     ],
     "language": "python",
     "metadata": {},
     "outputs": [
      {
       "output_type": "stream",
       "stream": "stdout",
       "text": [
        "/Users/Dann\r\n"
       ]
      }
     ],
     "prompt_number": 11
    },
    {
     "cell_type": "code",
     "collapsed": false,
     "input": [
      "d=Dataset('/Users/Dann/Downloads/jra55_1958-2012.t2_anom.nc')"
     ],
     "language": "python",
     "metadata": {},
     "outputs": [],
     "prompt_number": 5
    },
    {
     "cell_type": "code",
     "collapsed": false,
     "input": [
      "d.variables['latitude'][:]"
     ],
     "language": "python",
     "metadata": {},
     "outputs": [
      {
       "metadata": {},
       "output_type": "pyout",
       "prompt_number": 7,
       "text": [
        "array([ 90.  ,  88.75,  87.5 ,  86.25,  85.  ,  83.75,  82.5 ,  81.25,\n",
        "        80.  ,  78.75,  77.5 ,  76.25,  75.  ,  73.75,  72.5 ,  71.25,\n",
        "        70.  ,  68.75,  67.5 ,  66.25,  65.  ,  63.75,  62.5 ,  61.25,\n",
        "        60.  ,  58.75,  57.5 ,  56.25,  55.  ,  53.75,  52.5 ,  51.25,\n",
        "        50.  ,  48.75,  47.5 ,  46.25,  45.  ,  43.75,  42.5 ,  41.25,\n",
        "        40.  ,  38.75,  37.5 ,  36.25,  35.  ,  33.75,  32.5 ,  31.25,\n",
        "        30.  ,  28.75,  27.5 ,  26.25,  25.  ,  23.75,  22.5 ,  21.25,\n",
        "        20.  ,  18.75,  17.5 ,  16.25,  15.  ,  13.75,  12.5 ,  11.25,\n",
        "        10.  ,   8.75,   7.5 ,   6.25,   5.  ,   3.75,   2.5 ,   1.25,   0.  ], dtype=float32)"
       ]
      }
     ],
     "prompt_number": 7
    },
    {
     "cell_type": "code",
     "collapsed": false,
     "input": [
      "import matplotlib.pyplot as plt"
     ],
     "language": "python",
     "metadata": {},
     "outputs": [],
     "prompt_number": 9
    },
    {
     "cell_type": "code",
     "collapsed": false,
     "input": [
      "plt.plot(d.variables['latitude'][:])"
     ],
     "language": "python",
     "metadata": {},
     "outputs": [
      {
       "metadata": {},
       "output_type": "pyout",
       "prompt_number": 14,
       "text": [
        "[<matplotlib.lines.Line2D at 0x1074977d0>]"
       ]
      },
      {
       "metadata": {},
       "output_type": "display_data",
       "png": "[encoded data removed]",
       "text": [
        "<matplotlib.figure.Figure at 0x107487490>"
       ]
      }
     ],
     "prompt_number": 14
    },
    {
     "cell_type": "code",
     "collapsed": false,
     "input": [
      "import scipy.stats as stats"
     ],
     "language": "python",
     "metadata": {},
     "outputs": [],
     "prompt_number": 15
    },
    {
     "cell_type": "code",
     "collapsed": false,
     "input": [
      "stats.genpareto.rvs(c=-1.64,loc=0.27,scale=-0.084,size=30)"
     ],
     "language": "python",
     "metadata": {},
     "outputs": [
      {
       "ename": "ValueError",
       "evalue": "Domain error in arguments.",
       "output_type": "pyerr",
       "traceback": [
        "\u001b[0;31m---------------------------------------------------------------------------\u001b[0m\n\u001b[0;31mValueError\u001b[0m                                Traceback (most recent call last)",
        "\u001b[0;32m<ipython-input-22-5c10ad8ab8aa>\u001b[0m in \u001b[0;36m<module>\u001b[0;34m()\u001b[0m\n\u001b[0;32m----> 1\u001b[0;31m \u001b[0mstats\u001b[0m\u001b[0;34m.\u001b[0m\u001b[0mgenpareto\u001b[0m\u001b[0;34m.\u001b[0m\u001b[0mrvs\u001b[0m\u001b[0;34m(\u001b[0m\u001b[0mc\u001b[0m\u001b[0;34m=\u001b[0m\u001b[0;34m-\u001b[0m\u001b[0;36m1.64\u001b[0m\u001b[0;34m,\u001b[0m\u001b[0mloc\u001b[0m\u001b[0;34m=\u001b[0m\u001b[0;36m0.27\u001b[0m\u001b[0;34m,\u001b[0m\u001b[0mscale\u001b[0m\u001b[0;34m=\u001b[0m\u001b[0;34m-\u001b[0m\u001b[0;36m0.084\u001b[0m\u001b[0;34m,\u001b[0m\u001b[0msize\u001b[0m\u001b[0;34m=\u001b[0m\u001b[0;36m30\u001b[0m\u001b[0;34m)\u001b[0m\u001b[0;34m\u001b[0m\u001b[0m\n\u001b[0m",
        "\u001b[0;32m/Users/Dann/anaconda/lib/python2.7/site-packages/scipy/stats/distributions.pyc\u001b[0m in \u001b[0;36mrvs\u001b[0;34m(self, *args, **kwds)\u001b[0m\n\u001b[1;32m    659\u001b[0m         \u001b[0mcond\u001b[0m \u001b[0;34m=\u001b[0m \u001b[0mlogical_and\u001b[0m\u001b[0;34m(\u001b[0m\u001b[0mself\u001b[0m\u001b[0;34m.\u001b[0m\u001b[0m_argcheck\u001b[0m\u001b[0;34m(\u001b[0m\u001b[0;34m*\u001b[0m\u001b[0margs\u001b[0m\u001b[0;34m)\u001b[0m\u001b[0;34m,\u001b[0m \u001b[0;34m(\u001b[0m\u001b[0mscale\u001b[0m \u001b[0;34m>=\u001b[0m \u001b[0;36m0\u001b[0m\u001b[0;34m)\u001b[0m\u001b[0;34m)\u001b[0m\u001b[0;34m\u001b[0m\u001b[0m\n\u001b[1;32m    660\u001b[0m         \u001b[0;32mif\u001b[0m \u001b[0;32mnot\u001b[0m \u001b[0mall\u001b[0m\u001b[0;34m(\u001b[0m\u001b[0mcond\u001b[0m\u001b[0;34m)\u001b[0m\u001b[0;34m:\u001b[0m\u001b[0;34m\u001b[0m\u001b[0m\n\u001b[0;32m--> 661\u001b[0;31m             \u001b[0;32mraise\u001b[0m \u001b[0mValueError\u001b[0m\u001b[0;34m(\u001b[0m\u001b[0;34m\"Domain error in arguments.\"\u001b[0m\u001b[0;34m)\u001b[0m\u001b[0;34m\u001b[0m\u001b[0m\n\u001b[0m\u001b[1;32m    662\u001b[0m \u001b[0;34m\u001b[0m\u001b[0m\n\u001b[1;32m    663\u001b[0m         \u001b[0;31m# self._size is total size of all output values\u001b[0m\u001b[0;34m\u001b[0m\u001b[0;34m\u001b[0m\u001b[0m\n",
        "\u001b[0;31mValueError\u001b[0m: Domain error in arguments."
       ]
      }
     ],
     "prompt_number": 22
    },
    {
     "cell_type": "code",
     "collapsed": false,
     "input": [
      "import numpy as np"
     ],
     "language": "python",
     "metadata": {},
     "outputs": [],
     "prompt_number": 23
    },
    {
     "cell_type": "code",
     "collapsed": false,
     "input": [
      "from scipy.stats import genpareto"
     ],
     "language": "python",
     "metadata": {},
     "outputs": [],
     "prompt_number": 24
    },
    {
     "cell_type": "code",
     "collapsed": false,
     "input": [
      "numargs = genpareto.numargs"
     ],
     "language": "python",
     "metadata": {},
     "outputs": [],
     "prompt_number": 25
    },
    {
     "cell_type": "code",
     "collapsed": false,
     "input": [
      "[ c ] = [0.9,] * numargs"
     ],
     "language": "python",
     "metadata": {},
     "outputs": [],
     "prompt_number": 26
    },
    {
     "cell_type": "code",
     "collapsed": false,
     "input": [
      "rv = genpareto(c)\n"
     ],
     "language": "python",
     "metadata": {},
     "outputs": [],
     "prompt_number": 27
    },
    {
     "cell_type": "code",
     "collapsed": false,
     "input": [
      "rv.pdf"
     ],
     "language": "python",
     "metadata": {},
     "outputs": [
      {
       "metadata": {},
       "output_type": "pyout",
       "prompt_number": 29,
       "text": [
        "<bound method rv_frozen.pdf of <scipy.stats.distributions.rv_frozen object at 0x10db3a4d0>>"
       ]
      }
     ],
     "prompt_number": 29
    },
    {
     "cell_type": "code",
     "collapsed": false,
     "input": [
      "x = np.linspace(0, np.minimum(rv.dist.b, 3))\n"
     ],
     "language": "python",
     "metadata": {},
     "outputs": [],
     "prompt_number": 30
    },
    {
     "cell_type": "code",
     "collapsed": false,
     "input": [
      "h = plt.plot(x, rv.pdf(x))"
     ],
     "language": "python",
     "metadata": {},
     "outputs": [
      {
       "metadata": {},
       "output_type": "display_data",
       "png": "[encoded data removed]",
       "text": [
        "<matplotlib.figure.Figure at 0x10db3a290>"
       ]
      }
     ],
     "prompt_number": 31
    },
    {
     "cell_type": "code",
     "collapsed": false,
     "input": [
      "prb = genpareto.cdf(x, c)"
     ],
     "language": "python",
     "metadata": {},
     "outputs": [],
     "prompt_number": 32
    },
    {
     "cell_type": "code",
     "collapsed": false,
     "input": [
      "h = plt.semilogy(np.abs(x - genpareto.ppf(prb, c)) + 1e-20)"
     ],
     "language": "python",
     "metadata": {},
     "outputs": [
      {
       "metadata": {},
       "output_type": "display_data",
       "png": "[encoded data removed]",
       "text": [
        "<matplotlib.figure.Figure at 0x10dd09590>"
       ]
      }
     ],
     "prompt_number": 33
    },
    {
     "cell_type": "code",
     "collapsed": false,
     "input": [
      "c\n"
     ],
     "language": "python",
     "metadata": {},
     "outputs": [
      {
       "metadata": {},
       "output_type": "pyout",
       "prompt_number": 34,
       "text": [
        "0.9"
       ]
      }
     ],
     "prompt_number": 34
    },
    {
     "cell_type": "code",
     "collapsed": false,
     "input": [
      "R = genpareto.rvs(c, size=100)"
     ],
     "language": "python",
     "metadata": {},
     "outputs": [],
     "prompt_number": 35
    },
    {
     "cell_type": "code",
     "collapsed": false,
     "input": [
      "R"
     ],
     "language": "python",
     "metadata": {},
     "outputs": [
      {
       "metadata": {},
       "output_type": "pyout",
       "prompt_number": 37,
       "text": [
        "array([  2.11364017e+00,   9.03668161e-01,   5.56857024e-01,\n",
        "         1.16062655e+00,   9.89912265e-01,   1.03055208e+02,\n",
        "         7.76358283e-01,   1.35156377e+00,   7.66177179e-01,\n",
        "         2.03113103e-01,   6.84238151e-01,   1.91045510e-01,\n",
        "         1.50864318e+00,   4.31027989e+00,   6.90026391e+00,\n",
        "         1.10674219e+00,   1.54055105e+00,   1.04164671e+00,\n",
        "         4.60947205e-01,   9.96155505e+00,   1.29610004e+01,\n",
        "         9.98747621e+00,   5.89123987e+00,   2.59040812e+01,\n",
        "         6.44915435e+00,   3.27574107e+00,   7.41894384e+00,\n",
        "         2.18861606e-01,   3.74441230e+00,   1.56023523e-01,\n",
        "         5.41351599e+00,   8.96474290e-01,   1.00189229e+00,\n",
        "         8.39587112e-01,   4.35465667e-01,   1.20205319e+00,\n",
        "         1.68247630e+00,   1.84889423e+00,   1.18033274e+00,\n",
        "         3.15859886e-01,   1.44320948e-01,   1.58416906e+00,\n",
        "         5.21268204e-01,   2.75983363e-01,   1.88867990e+00,\n",
        "         4.71099031e-01,   8.44658393e+00,   1.73250057e+00,\n",
        "         5.16165156e+00,   7.45839306e-01,   2.36316436e-01,\n",
        "         6.94130031e+00,   1.25917717e-01,   3.02320654e-01,\n",
        "         3.27261816e+02,   9.04222086e-01,   5.53781458e+00,\n",
        "         5.53515825e-01,   3.20388178e+00,   1.02926891e+00,\n",
        "         1.18788457e-01,   1.06219053e+00,   9.66560374e+01,\n",
        "         1.73560937e-01,   5.27590898e-01,   1.15732964e+00,\n",
        "         6.93885712e+00,   3.90219088e-02,   1.04310243e+01,\n",
        "         1.05416101e+02,   3.17341000e-01,   2.75243419e-01,\n",
        "         5.92824278e+00,   3.93432536e+01,   1.93564397e-01,\n",
        "         2.22408053e+00,   1.46837582e+01,   8.26554423e-03,\n",
        "         3.27575763e-01,   8.10388785e-01,   5.98926266e+00,\n",
        "         7.70066605e+00,   3.87805384e-01,   1.26511240e+01,\n",
        "         5.98616872e-01,   3.39567552e-01,   7.85112268e-01,\n",
        "         3.12115033e-01,   4.47806611e-01,   4.73471455e-02,\n",
        "         1.58923314e+01,   2.34962543e+00,   9.73280342e+00,\n",
        "         3.90600033e-01,   3.00981985e+00,   5.07670269e-01,\n",
        "         2.96234247e+00,   1.04472456e+02,   4.80473214e+00,\n",
        "         1.15658994e+00])"
       ]
      }
     ],
     "prompt_number": 37
    },
    {
     "cell_type": "code",
     "collapsed": false,
     "input": [
      "plt.hist(R, bins=100)\n",
      "plt.xlim(0,30)"
     ],
     "language": "python",
     "metadata": {},
     "outputs": [
      {
       "metadata": {},
       "output_type": "pyout",
       "prompt_number": 40,
       "text": [
        "(0, 30)"
       ]
      },
      {
       "metadata": {},
       "output_type": "display_data",
       "png": "[encoded data removed]",
       "text": [
        "<matplotlib.figure.Figure at 0x10de3a750>"
       ]
      }
     ],
     "prompt_number": 40
    },
    {
     "cell_type": "code",
     "collapsed": false,
     "input": [],
     "language": "python",
     "metadata": {},
     "outputs": []
    }
   ],
   "metadata": {}
  }
 ]
}